{
  "nbformat": 4,
  "nbformat_minor": 0,
  "metadata": {
    "colab": {
      "name": "20211117.ipynb",
      "provenance": [],
      "authorship_tag": "ABX9TyOahqZyGDTuRW7znsJDOSmS",
      "include_colab_link": true
    },
    "kernelspec": {
      "name": "python3",
      "display_name": "Python 3"
    },
    "language_info": {
      "name": "python"
    }
  },
  "cells": [
    {
      "cell_type": "markdown",
      "metadata": {
        "id": "view-in-github",
        "colab_type": "text"
      },
      "source": [
        "<a href=\"https://colab.research.google.com/github/schneeball1230/Class2021Fall/blob/main/20211117.ipynb\" target=\"_parent\"><img src=\"https://colab.research.google.com/assets/colab-badge.svg\" alt=\"Open In Colab\"/></a>"
      ]
    },
    {
      "cell_type": "code",
      "metadata": {
        "id": "pbo-By9lb8O0"
      },
      "source": [
        "import numpy as np #numpy라는 library를 np로 가져옴"
      ],
      "execution_count": 1,
      "outputs": []
    },
    {
      "cell_type": "code",
      "metadata": {
        "colab": {
          "base_uri": "https://localhost:8080/"
        },
        "id": "Jn5ItnlfcU5E",
        "outputId": "a7885227-73fe-4635-b7f5-95ee336e547f"
      },
      "source": [
        "x = np.array([1, 2, 3]) #array함수는 input으로 리스트를 받아서 array를 output으로 냄\n",
        "print(x) \n",
        "print(type(x)) #x의 type을 출력\n",
        "print(x.shape) #x의 모양을 출력(1행 3열 array는 (3,)으로 출력됨)"
      ],
      "execution_count": 3,
      "outputs": [
        {
          "output_type": "stream",
          "name": "stdout",
          "text": [
            "[1 2 3]\n",
            "<class 'numpy.ndarray'>\n",
            "(3,)\n"
          ]
        }
      ]
    },
    {
      "cell_type": "code",
      "metadata": {
        "colab": {
          "base_uri": "https://localhost:8080/"
        },
        "id": "t2hDXsekcxOD",
        "outputId": "7dc86482-9296-4bd8-e4dc-6c5513e49492"
      },
      "source": [
        "x = np.arange(0, 10, 2) \n",
        "# arange함수는 시작, 끝, 간격을 input으로 받아서\n",
        "# 시작부터 끝까지의 숫자를 끝은 포함 안 하고 간격을 간격으로 array 출력\n",
        "print(x)\n",
        "print(type(x))\n",
        "print(x.shape)"
      ],
      "execution_count": 4,
      "outputs": [
        {
          "output_type": "stream",
          "name": "stdout",
          "text": [
            "[0 2 4 6 8]\n",
            "<class 'numpy.ndarray'>\n",
            "(5,)\n"
          ]
        }
      ]
    },
    {
      "cell_type": "code",
      "metadata": {
        "colab": {
          "base_uri": "https://localhost:8080/"
        },
        "id": "j8rOulhvd0G4",
        "outputId": "0130f73f-6d55-4e2d-87c8-ce8f911f6ef5"
      },
      "source": [
        "x = np.linspace(0, 10, 6)\n",
        "# linspace함수는 시작, 끝, 개수를 input으로 받아서\n",
        "# 시작부터 끝까지의 숫자를 끝 포함하여 개수개의 수를 array로 출력\n",
        "print(x)\n",
        "print(type(x))\n",
        "print(x.shape)"
      ],
      "execution_count": 5,
      "outputs": [
        {
          "output_type": "stream",
          "name": "stdout",
          "text": [
            "[ 0.  2.  4.  6.  8. 10.]\n",
            "<class 'numpy.ndarray'>\n",
            "(6,)\n"
          ]
        }
      ]
    },
    {
      "cell_type": "code",
      "metadata": {
        "colab": {
          "base_uri": "https://localhost:8080/"
        },
        "id": "ORDS7sD3eX5r",
        "outputId": "4ad2149c-6d2e-4eb5-8afa-e7c74f649a43"
      },
      "source": [
        "# 위에서 array함수는 list를 input으로 받는다고 했는데,\n",
        "# list안에 list를 2개 이상 input으로 입력하여 2차원 이상을 표현할 수 있다.\n",
        "x = np.array([[1, 2, 3], [4, 5, 6]])\n",
        "print(x)\n",
        "print(type(x))\n",
        "print(x.shape)"
      ],
      "execution_count": 7,
      "outputs": [
        {
          "output_type": "stream",
          "name": "stdout",
          "text": [
            "[[1 2 3]\n",
            " [4 5 6]]\n",
            "<class 'numpy.ndarray'>\n",
            "(2, 3)\n"
          ]
        }
      ]
    },
    {
      "cell_type": "code",
      "metadata": {
        "colab": {
          "base_uri": "https://localhost:8080/"
        },
        "id": "SaPmwsF0gsRO",
        "outputId": "1424ab87-b7c9-4585-962c-5506cb730518"
      },
      "source": [
        "x = np.array([[[1, 2, 3], [4, 5, 6]], [[7, 8, 9], [10, 11, 12]]])\n",
        "# 2x3 array 2개\n",
        "print(x)\n",
        "print(type(x))\n",
        "print(x.shape)"
      ],
      "execution_count": 8,
      "outputs": [
        {
          "output_type": "stream",
          "name": "stdout",
          "text": [
            "[[[ 1  2  3]\n",
            "  [ 4  5  6]]\n",
            "\n",
            " [[ 7  8  9]\n",
            "  [10 11 12]]]\n",
            "<class 'numpy.ndarray'>\n",
            "(2, 2, 3)\n"
          ]
        }
      ]
    },
    {
      "cell_type": "code",
      "metadata": {
        "colab": {
          "base_uri": "https://localhost:8080/"
        },
        "id": "mBdsm-l6iR23",
        "outputId": "0f074b0f-7ee9-4889-e3b5-54ca390e7fb9"
      },
      "source": [
        "x = np.ones([2, 3, 4])\n",
        "# 모든 요소가 숫자 1로 이루어진 array\n",
        "print(x)\n",
        "print(type(x))\n",
        "print(x.shape)\n"
      ],
      "execution_count": 9,
      "outputs": [
        {
          "output_type": "stream",
          "name": "stdout",
          "text": [
            "[[[1. 1. 1. 1.]\n",
            "  [1. 1. 1. 1.]\n",
            "  [1. 1. 1. 1.]]\n",
            "\n",
            " [[1. 1. 1. 1.]\n",
            "  [1. 1. 1. 1.]\n",
            "  [1. 1. 1. 1.]]]\n",
            "<class 'numpy.ndarray'>\n",
            "(2, 3, 4)\n"
          ]
        }
      ]
    },
    {
      "cell_type": "code",
      "metadata": {
        "colab": {
          "base_uri": "https://localhost:8080/"
        },
        "id": "SOZ4Suxtip09",
        "outputId": "375f31e5-32ff-4394-c561-c4edf88b141d"
      },
      "source": [
        "x = np.zeros([2, 2, 3])\n",
        "# 모든 요소가 숫자 0으로 이루어진 array\n",
        "print(x)\n",
        "print(type(x))\n",
        "print(x.shape)"
      ],
      "execution_count": 11,
      "outputs": [
        {
          "output_type": "stream",
          "name": "stdout",
          "text": [
            "[[[0. 0. 0.]\n",
            "  [0. 0. 0.]]\n",
            "\n",
            " [[0. 0. 0.]\n",
            "  [0. 0. 0.]]]\n",
            "<class 'numpy.ndarray'>\n",
            "(2, 2, 3)\n"
          ]
        }
      ]
    },
    {
      "cell_type": "code",
      "metadata": {
        "id": "-Pt8q0jlixOd"
      },
      "source": [
        "import matplotlib.pyplot as plt"
      ],
      "execution_count": 12,
      "outputs": []
    },
    {
      "cell_type": "code",
      "metadata": {
        "colab": {
          "base_uri": "https://localhost:8080/",
          "height": 775
        },
        "id": "2pntiQ4Sk4ug",
        "outputId": "03dcf69b-913c-404f-9382-9e5bb023df05"
      },
      "source": [
        "x = np.random.normal(0, 1, 100)\n",
        "# 평균이 0이고 표준편차가 1인 정규분포를 따르는 숫자 100개 만들기\n",
        "print(x)\n",
        "plt.hist(x, bins=10) # 히스토그램으로 표현하는데, 기둥이 10개"
      ],
      "execution_count": 13,
      "outputs": [
        {
          "output_type": "stream",
          "name": "stdout",
          "text": [
            "[ 1.39310351e+00  1.28609238e+00 -1.60497825e+00 -8.66605439e-01\n",
            "  1.05655597e+00 -8.31985945e-02  2.25975315e-01  1.58042215e+00\n",
            " -1.12536363e+00  3.03546905e-01 -1.64149929e+00 -5.70522034e-02\n",
            "  3.20764128e-01  7.63753538e-01 -6.22138825e-03  1.58769165e+00\n",
            "  8.38012827e-01 -5.18343441e-01  6.15783933e-01  1.01647733e+00\n",
            "  9.41471637e-01 -6.97680950e-01  1.83312965e+00 -8.51451042e-02\n",
            " -7.58826025e-01 -1.10896837e+00  8.96681881e-01  1.26784406e-01\n",
            " -1.18729689e-01  5.98438738e-01  5.28191040e-01 -7.91690406e-01\n",
            " -3.54346280e-02 -1.60664208e+00 -1.71724871e+00 -1.07483095e-01\n",
            " -7.45533749e-01  5.62369687e-02  2.08775452e-01  4.45936662e-01\n",
            " -2.82346717e+00  9.55807474e-02 -5.23323580e-01 -1.71976808e-02\n",
            " -1.94867405e+00 -1.77466017e+00  3.96582332e-02  1.70550899e+00\n",
            " -1.01525062e+00 -1.38613444e+00 -1.01073431e+00  4.48779878e-01\n",
            "  9.37856215e-01 -2.07835168e-01 -2.08841392e-01  9.37526509e-01\n",
            " -1.64803230e+00  7.75917129e-01  1.45627072e-01 -1.23927321e+00\n",
            " -1.89476843e+00 -7.09791216e-02 -2.09744324e-01 -1.16176637e-01\n",
            " -3.30080498e+00 -2.77781068e-01 -2.05928105e-01  1.79682511e+00\n",
            " -1.01624465e-01 -3.82503756e-01  8.43319896e-01  2.50880981e+00\n",
            " -6.39492980e-01  3.18181275e-01  1.96819588e-01 -1.01198648e+00\n",
            " -5.21807438e-01 -5.71415342e-01  4.17004724e-01  1.10747535e+00\n",
            "  1.40414997e+00  2.31355090e-01 -1.31341789e+00 -5.94755081e-01\n",
            " -2.50316064e-01 -1.89298504e+00 -9.08604283e-01 -3.23755804e-01\n",
            "  1.14138817e+00  7.26494421e-01  9.31722647e-01 -1.06886697e-01\n",
            "  2.26399511e-01  3.44942853e-01  6.66268833e-02 -2.10635321e+00\n",
            " -2.84083131e+00  4.78661881e-01 -8.65207930e-04  9.46593293e-01]\n"
          ]
        },
        {
          "output_type": "execute_result",
          "data": {
            "text/plain": [
              "(array([ 3.,  0., 10.,  8., 12., 27., 18., 14.,  7.,  1.]),\n",
              " array([-3.30080498, -2.7198435 , -2.13888202, -1.55792054, -0.97695906,\n",
              "        -0.39599759,  0.18496389,  0.76592537,  1.34688685,  1.92784833,\n",
              "         2.50880981]),\n",
              " <a list of 10 Patch objects>)"
            ]
          },
          "metadata": {},
          "execution_count": 13
        },
        {
          "output_type": "display_data",
          "data": {
            "image/png": "[encoded data removed]",
            "text/plain": [
              "<Figure size 432x288 with 1 Axes>"
            ]
          },
          "metadata": {
            "needs_background": "light"
          }
        }
      ]
    },
    {
      "cell_type": "code",
      "metadata": {
        "colab": {
          "base_uri": "https://localhost:8080/",
          "height": 282
        },
        "id": "-pjGkvVclAkW",
        "outputId": "4340a9d1-d07a-42bb-9d88-f1394e111cb0"
      },
      "source": [
        "theta = np.linspace(0, 2*np.pi, 100)\n",
        "# 0부터 2pi까지 100개의 radian 생성\n",
        "s = np.sin(theta)\n",
        "plt.plot(theta, s, '.') #각도값, sin값 넣어주고 .으로 점선생성"
      ],
      "execution_count": 14,
      "outputs": [
        {
          "output_type": "execute_result",
          "data": {
            "text/plain": [
              "[<matplotlib.lines.Line2D at 0x7f71f8d9eb90>]"
            ]
          },
          "metadata": {},
          "execution_count": 14
        },
        {
          "output_type": "display_data",
          "data": {
            "image/png": "[encoded data removed]",
            "text/plain": [
              "<Figure size 432x288 with 1 Axes>"
            ]
          },
          "metadata": {
            "needs_background": "light"
          }
        }
      ]
    },
    {
      "cell_type": "code",
      "metadata": {
        "id": "iueAui0al5YX"
      },
      "source": [
        ""
      ],
      "execution_count": null,
      "outputs": []
    }
  ]
}